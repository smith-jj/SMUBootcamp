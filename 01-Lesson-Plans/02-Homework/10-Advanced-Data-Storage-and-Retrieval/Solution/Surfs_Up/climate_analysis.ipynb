{
  "cells": [
    {
      "cell_type": "code",
      "source": [
        "%matplotlib inline\n",
        "from matplotlib import style\n",
        "style.use('fivethirtyeight')\n",
        "import matplotlib.pyplot as plt"
      ],
      "outputs": [],
      "execution_count": 1,
      "metadata": {}
    },
    {
      "cell_type": "code",
      "source": [
        "import numpy as np\n",
        "import pandas as pd"
      ],
      "outputs": [],
      "execution_count": 2,
      "metadata": {}
    },
    {
      "cell_type": "code",
      "source": [
        "import datetime as dt"
      ],
      "outputs": [],
      "execution_count": 3,
      "metadata": {}
    },
    {
      "cell_type": "markdown",
      "source": [
        "# Reflect Tables into SQLAlchemy ORM"
      ],
      "metadata": {}
    },
    {
      "cell_type": "code",
      "source": [
        "# Python SQL toolkit and Object Relational Mapper\n",
        "import sqlalchemy\n",
        "from sqlalchemy.ext.automap import automap_base\n",
        "from sqlalchemy.orm import Session\n",
        "from sqlalchemy import create_engine, func"
      ],
      "outputs": [],
      "execution_count": 4,
      "metadata": {}
    },
    {
      "cell_type": "code",
      "source": [
        "engine = create_engine(\"sqlite:///hawaii.sqlite\")"
      ],
      "outputs": [],
      "execution_count": 5,
      "metadata": {}
    },
    {
      "cell_type": "code",
      "source": [
        "# reflect an existing database into a new model\n",
        "Base = automap_base()\n",
        "# reflect the tables\n",
        "Base.prepare(engine, reflect=True)"
      ],
      "outputs": [],
      "execution_count": 6,
      "metadata": {}
    },
    {
      "cell_type": "code",
      "source": [
        "# We can view all of the classes that automap found\n",
        "Base.classes.keys()"
      ],
      "outputs": [
        {
          "output_type": "execute_result",
          "execution_count": 7,
          "data": {
            "text/plain": [
              "['measurement', 'station']"
            ]
          },
          "metadata": {}
        }
      ],
      "execution_count": 7,
      "metadata": {}
    },
    {
      "cell_type": "code",
      "source": [
        "# Save references to each table\n",
        "Measurement = Base.classes.measurement\n",
        "Station = Base.classes.station"
      ],
      "outputs": [],
      "execution_count": 8,
      "metadata": {}
    },
    {
      "cell_type": "code",
      "source": [
        "# Create our session (link) from Python to the DB\n",
        "session = Session(engine)"
      ],
      "outputs": [],
      "execution_count": 9,
      "metadata": {}
    },
    {
      "cell_type": "markdown",
      "source": [
        "# Exploratory Climate Analysis"
      ],
      "metadata": {}
    },
    {
      "cell_type": "code",
      "source": [
        "# Design a query to retrieve the last 12 months of precipitation data and plot the results. \n",
        "#Starting from the last data point in the database. \n",
        "\n",
        "# Calculate the date one year from the last date in data set.\n",
        "prev_year = dt.date(2017, 8, 23) - dt.timedelta(days=365)\n",
        "\n",
        "# Perform a query to retrieve the data and precipitation scores\n",
        "results = session.query(Measurement.date, Measurement.prcp).filter(Measurement.date >= prev_year).all()\n",
        "\n",
        "# Save the query results as a Pandas DataFrame and set the index to the date column\n",
        "df = pd.DataFrame(results, columns=['date', 'precipitation'])\n",
        "df.set_index(df['date'], inplace=True)\n",
        "\n",
        "# Sort the dataframe by date\n",
        "df = df.sort_values(\"date\")\n",
        "\n",
        "# Use Pandas Plotting with Matplotlib to plot the data\n",
        "df.plot(x_compat=True)"
      ],
      "outputs": [
        {
          "output_type": "stream",
          "name": "stderr",
          "text": [
            "/Users/ddrossi93/anaconda/lib/python3.6/site-packages/ipykernel/__main__.py:14: FutureWarning: 'date' is both an index level and a column label.\n",
            "Defaulting to column, but this will raise an ambiguity error in a future version\n"
          ]
        },
        {
          "output_type": "execute_result",
          "execution_count": 10,
          "data": {
            "text/plain": [
              "<matplotlib.axes._subplots.AxesSubplot at 0x1116128d0>"
            ]
          },
          "metadata": {}
        },
        {
          "output_type": "display_data",
          "data": {
            "image/png": "[encoded data removed]",
            "text/plain": [
              "<Figure size 432x288 with 1 Axes>"
            ]
          },
          "metadata": {}
        }
      ],
      "execution_count": 10,
      "metadata": {}
    },
    {
      "cell_type": "code",
      "source": [
        "# Use Pandas to calcualte the summary statistics for the precipitation data\n",
        "df.describe()"
      ],
      "outputs": [
        {
          "output_type": "execute_result",
          "execution_count": 11,
          "data": {
            "text/html": [
              "<div>\n",
              "<style scoped>\n",
              "    .dataframe tbody tr th:only-of-type {\n",
              "        vertical-align: middle;\n",
              "    }\n",
              "\n",
              "    .dataframe tbody tr th {\n",
              "        vertical-align: top;\n",
              "    }\n",
              "\n",
              "    .dataframe thead th {\n",
              "        text-align: right;\n",
              "    }\n",
              "</style>\n",
              "<table border=\"1\" class=\"dataframe\">\n",
              "  <thead>\n",
              "    <tr style=\"text-align: right;\">\n",
              "      <th></th>\n",
              "      <th>precipitation</th>\n",
              "    </tr>\n",
              "  </thead>\n",
              "  <tbody>\n",
              "    <tr>\n",
              "      <th>count</th>\n",
              "      <td>2021.000000</td>\n",
              "    </tr>\n",
              "    <tr>\n",
              "      <th>mean</th>\n",
              "      <td>0.177279</td>\n",
              "    </tr>\n",
              "    <tr>\n",
              "      <th>std</th>\n",
              "      <td>0.461190</td>\n",
              "    </tr>\n",
              "    <tr>\n",
              "      <th>min</th>\n",
              "      <td>0.000000</td>\n",
              "    </tr>\n",
              "    <tr>\n",
              "      <th>25%</th>\n",
              "      <td>0.000000</td>\n",
              "    </tr>\n",
              "    <tr>\n",
              "      <th>50%</th>\n",
              "      <td>0.020000</td>\n",
              "    </tr>\n",
              "    <tr>\n",
              "      <th>75%</th>\n",
              "      <td>0.130000</td>\n",
              "    </tr>\n",
              "    <tr>\n",
              "      <th>max</th>\n",
              "      <td>6.700000</td>\n",
              "    </tr>\n",
              "  </tbody>\n",
              "</table>\n",
              "</div>"
            ],
            "text/plain": [
              "       precipitation\n",
              "count    2021.000000\n",
              "mean        0.177279\n",
              "std         0.461190\n",
              "min         0.000000\n",
              "25%         0.000000\n",
              "50%         0.020000\n",
              "75%         0.130000\n",
              "max         6.700000"
            ]
          },
          "metadata": {}
        }
      ],
      "execution_count": 11,
      "metadata": {}
    },
    {
      "cell_type": "code",
      "source": [
        "# How many stations are available in this dataset?\n",
        "session.query(func.count(Station.station)).all()"
      ],
      "outputs": [
        {
          "output_type": "execute_result",
          "execution_count": 12,
          "data": {
            "text/plain": [
              "[(9)]"
            ]
          },
          "metadata": {}
        }
      ],
      "execution_count": 12,
      "metadata": {}
    },
    {
      "cell_type": "code",
      "source": [
        "# What are the most active stations?\n",
        "# List the stations and the counts in descending order.\n",
        "session.query(Measurement.station, func.count(Measurement.station)).\\\n",
        "    group_by(Measurement.station).order_by(func.count(Measurement.station).desc()).all()"
      ],
      "outputs": [
        {
          "output_type": "execute_result",
          "execution_count": 13,
          "data": {
            "text/plain": [
              "[('USC00519281', 2772),\n",
              " ('USC00519397', 2724),\n",
              " ('USC00513117', 2709),\n",
              " ('USC00519523', 2669),\n",
              " ('USC00516128', 2612),\n",
              " ('USC00514830', 2202),\n",
              " ('USC00511918', 1979),\n",
              " ('USC00517948', 1372),\n",
              " ('USC00518838', 511)]"
            ]
          },
          "metadata": {}
        }
      ],
      "execution_count": 13,
      "metadata": {}
    },
    {
      "cell_type": "code",
      "source": [
        "# Using the station id from the previous query, calculate the lowest temperature recorded, \n",
        "# highest temperature recorded, and average temperature most active station?\n",
        "session.query(func.min(Measurement.tobs), func.max(Measurement.tobs), func.avg(Measurement.tobs)).\\\n",
        "    filter(Measurement.station == 'USC00519281').all()"
      ],
      "outputs": [
        {
          "output_type": "execute_result",
          "execution_count": 14,
          "data": {
            "text/plain": [
              "[(54.0, 85.0, 71.66378066378067)]"
            ]
          },
          "metadata": {}
        }
      ],
      "execution_count": 14,
      "metadata": {}
    },
    {
      "cell_type": "code",
      "source": [
        "# Choose the station with the highest number of temperature observations.\n",
        "# Query the last 12 months of temperature observation data for this station and plot the results as a histogram\n",
        "import datetime as dt\n",
        "from pandas.plotting import table\n",
        "prev_year = dt.date(2017, 8, 23) - dt.timedelta(days=365)\n",
        "\n",
        "results = session.query(Measurement.tobs).\\\n",
        "    filter(Measurement.station == 'USC00519281').\\\n",
        "    filter(Measurement.date >= prev_year).all()\n",
        "df = pd.DataFrame(results, columns=['tobs'])\n",
        "df.plot.hist(bins=12)\n",
        "plt.tight_layout()"
      ],
      "outputs": [
        {
          "output_type": "display_data",
          "data": {
            "image/png": "[encoded data removed]",
            "text/plain": [
              "<Figure size 432x288 with 1 Axes>"
            ]
          },
          "metadata": {}
        }
      ],
      "execution_count": 15,
      "metadata": {}
    },
    {
      "cell_type": "code",
      "source": [
        "# Write a function called `calc_temps` that will accept start date and end date in the format '%Y-%m-%d' \n",
        "# and return the minimum, average, and maximum temperatures for that range of dates\n",
        "def calc_temps(start_date, end_date):\n",
        "    \"\"\"TMIN, TAVG, and TMAX for a list of dates.\n",
        "    \n",
        "    Args:\n",
        "        start_date (string): A date string in the format %Y-%m-%d\n",
        "        end_date (string): A date string in the format %Y-%m-%d\n",
        "        \n",
        "    Returns:\n",
        "        TMIN, TAVE, and TMAX\n",
        "    \"\"\"\n",
        "    \n",
        "    return session.query(func.min(Measurement.tobs), func.avg(Measurement.tobs), func.max(Measurement.tobs)).\\\n",
        "        filter(Measurement.date >= start_date).filter(Measurement.date <= end_date).all()\n",
        "print(calc_temps('2012-02-28', '2012-03-05'))"
      ],
      "outputs": [
        {
          "output_type": "stream",
          "name": "stdout",
          "text": [
            "[(62.0, 69.57142857142857, 74.0)]\n"
          ]
        }
      ],
      "execution_count": 16,
      "metadata": {}
    },
    {
      "cell_type": "code",
      "source": [
        "# Use your previous function `calc_temps` to calculate the tmin, tavg, and tmax \n",
        "# for your trip using the previous year's data for those same dates.\n",
        "import datetime as dt\n",
        "\n",
        "prev_year_start = dt.date(2018, 1, 1) - dt.timedelta(days=365)\n",
        "prev_year_end = dt.date(2018, 1, 7) - dt.timedelta(days=365)\n",
        "\n",
        "tmin, tavg, tmax = calc_temps(prev_year_start.strftime(\"%Y-%m-%d\"), prev_year_end.strftime(\"%Y-%m-%d\"))[0]\n",
        "print(tmin, tavg, tmax)"
      ],
      "outputs": [
        {
          "output_type": "stream",
          "name": "stdout",
          "text": [
            "62.0 68.36585365853658 74.0\n"
          ]
        }
      ],
      "execution_count": 17,
      "metadata": {}
    },
    {
      "cell_type": "code",
      "source": [
        "# Plot the results from your previous query as a bar chart. \n",
        "# Use \"Trip Avg Temp\" as your Title\n",
        "# Use the average temperature for the y value\n",
        "# Use the peak-to-peak (tmax-tmin) value as the y error bar (yerr)\n",
        "fig, ax = plt.subplots(figsize=plt.figaspect(2.))\n",
        "xpos = 1\n",
        "yerr = tmax-tmin\n",
        "\n",
        "bar = ax.bar(xpos, tmax, yerr=yerr, alpha=0.5, color='coral', align=\"center\")\n",
        "ax.set(xticks=range(xpos), xticklabels=\"a\", title=\"Trip Avg Temp\", ylabel=\"Temp (F)\")\n",
        "ax.margins(.2, .2)\n",
        "# fig.autofmt_xdate()\n",
        "fig.tight_layout()\n",
        "fig.show()"
      ],
      "outputs": [
        {
          "output_type": "stream",
          "name": "stderr",
          "text": [
            "/Users/ddrossi93/anaconda/lib/python3.6/site-packages/matplotlib/figure.py:459: UserWarning: matplotlib is currently using a non-GUI backend, so cannot show the figure\n",
            "  \"matplotlib is currently using a non-GUI backend, \"\n"
          ]
        },
        {
          "output_type": "display_data",
          "data": {
            "image/png": "[encoded data removed]",
            "text/plain": [
              "<Figure size 288x576 with 1 Axes>"
            ]
          },
          "metadata": {}
        }
      ],
      "execution_count": 18,
      "metadata": {}
    },
    {
      "cell_type": "code",
      "source": [
        "# Calculate the total amount of rainfall per weather station for your trip dates using the previous year's matching dates.\n",
        "# Sort this in descending order by precipitation amount and list the station, name, latitude, longitude, and elevation\n",
        "\n",
        "start_date = '2012-01-01'\n",
        "end_date = '2012-01-07'\n",
        "\n",
        "sel = [Station.station, Station.name, Station.latitude, \n",
        "       Station.longitude, Station.elevation, func.sum(Measurement.prcp)]\n",
        "\n",
        "results = session.query(*sel).\\\n",
        "    filter(Measurement.station == Station.station).\\\n",
        "    filter(Measurement.date >= start_date).\\\n",
        "    filter(Measurement.date <= end_date).\\\n",
        "    group_by(Station.name).order_by(func.sum(Measurement.prcp).desc()).all()\n",
        "print(results)"
      ],
      "outputs": [
        {
          "output_type": "stream",
          "name": "stdout",
          "text": [
            "[('USC00516128', 'MANOA LYON ARBO 785.2, HI US', 21.3331, -157.8025, 152.4, 0.31), ('USC00519281', 'WAIHEE 837.5, HI US', 21.45167, -157.84888999999998, 32.9, 0.25), ('USC00518838', 'UPPER WAHIAWA 874.3, HI US', 21.4992, -158.0111, 306.6, 0.1), ('USC00513117', 'KANEOHE 838.1, HI US', 21.4234, -157.8015, 14.6, 0.060000000000000005), ('USC00511918', 'HONOLULU OBSERVATORY 702.2, HI US', 21.3152, -157.9992, 0.9, 0.0), ('USC00514830', 'KUALOA RANCH HEADQUARTERS 886.9, HI US', 21.5213, -157.8374, 7.0, 0.0), ('USC00517948', 'PEARL CITY, HI US', 21.3934, -157.9751, 11.9, 0.0), ('USC00519397', 'WAIKIKI 717.2, HI US', 21.2716, -157.8168, 3.0, 0.0), ('USC00519523', 'WAIMANALO EXPERIMENTAL FARM, HI US', 21.33556, -157.71139, 19.5, 0.0)]\n"
          ]
        }
      ],
      "execution_count": 19,
      "metadata": {}
    },
    {
      "cell_type": "markdown",
      "source": [
        "## Optional Challenge Assignment"
      ],
      "metadata": {}
    },
    {
      "cell_type": "code",
      "source": [
        "# Create a query that will calculate the daily normals \n",
        "# (i.e. the averages for tmin, tmax, and tavg for all historic data matching a specific month and day)\n",
        "\n",
        "def daily_normals(date):\n",
        "    \"\"\"Daily Normals.\n",
        "    \n",
        "    Args:\n",
        "        date (str): A date string in the format '%m-%d'\n",
        "        \n",
        "    Returns:\n",
        "        A list of tuples containing the daily normals, tmin, tavg, and tmax\n",
        "    \n",
        "    \"\"\"\n",
        "    \n",
        "    sel = [func.min(Measurement.tobs), func.avg(Measurement.tobs), func.max(Measurement.tobs)]\n",
        "    return session.query(*sel).filter(func.strftime(\"%m-%d\", Measurement.date) == date).all()\n",
        "    \n",
        "daily_normals(\"01-01\")"
      ],
      "outputs": [
        {
          "output_type": "execute_result",
          "execution_count": 20,
          "data": {
            "text/plain": [
              "[(62.0, 69.15384615384616, 77.0)]"
            ]
          },
          "metadata": {}
        }
      ],
      "execution_count": 20,
      "metadata": {}
    },
    {
      "cell_type": "code",
      "source": [
        "# calculate the daily normals for your trip\n",
        "# push each tuple of calculations into a list called `normals`\n",
        "\n",
        "# Set the start and end date of the trip\n",
        "trip_start = '2018-01-01'\n",
        "trip_end = '2018-01-07'\n",
        "\n",
        "# Use the start and end date to create a range of dates\n",
        "trip_dates = pd.date_range(trip_start, trip_end, freq='D')\n",
        "\n",
        "# Stip off the year and save a list of %m-%d strings\n",
        "trip_month_day = trip_dates.strftime('%m-%d')\n",
        "\n",
        "# Loop through the list of %m-%d strings and calculate the normals for each date\n",
        "normals = []\n",
        "for date in trip_month_day:\n",
        "    normals.append(*daily_normals(date))\n",
        "    \n",
        "normals"
      ],
      "outputs": [
        {
          "output_type": "execute_result",
          "execution_count": 21,
          "data": {
            "text/plain": [
              "[(62.0, 69.15384615384616, 77.0),\n",
              " (60.0, 69.39622641509433, 77.0),\n",
              " (62.0, 68.9090909090909, 77.0),\n",
              " (58.0, 70.0, 76.0),\n",
              " (56.0, 67.96428571428571, 76.0),\n",
              " (61.0, 68.96491228070175, 76.0),\n",
              " (57.0, 68.54385964912281, 76.0)]"
            ]
          },
          "metadata": {}
        }
      ],
      "execution_count": 21,
      "metadata": {}
    },
    {
      "cell_type": "code",
      "source": [
        "# Load the previous query results into a Pandas DataFrame and add the `trip_dates` range as the `date` index\n",
        "df = pd.DataFrame(normals, columns=['tmin', 'tavg', 'tmax'])\n",
        "df['date'] = trip_dates\n",
        "df.set_index(['date'],inplace=True)\n",
        "df.head()"
      ],
      "outputs": [
        {
          "output_type": "execute_result",
          "execution_count": 22,
          "data": {
            "text/html": [
              "<div>\n",
              "<style scoped>\n",
              "    .dataframe tbody tr th:only-of-type {\n",
              "        vertical-align: middle;\n",
              "    }\n",
              "\n",
              "    .dataframe tbody tr th {\n",
              "        vertical-align: top;\n",
              "    }\n",
              "\n",
              "    .dataframe thead th {\n",
              "        text-align: right;\n",
              "    }\n",
              "</style>\n",
              "<table border=\"1\" class=\"dataframe\">\n",
              "  <thead>\n",
              "    <tr style=\"text-align: right;\">\n",
              "      <th></th>\n",
              "      <th>tmin</th>\n",
              "      <th>tavg</th>\n",
              "      <th>tmax</th>\n",
              "    </tr>\n",
              "    <tr>\n",
              "      <th>date</th>\n",
              "      <th></th>\n",
              "      <th></th>\n",
              "      <th></th>\n",
              "    </tr>\n",
              "  </thead>\n",
              "  <tbody>\n",
              "    <tr>\n",
              "      <th>2018-01-01</th>\n",
              "      <td>62.0</td>\n",
              "      <td>69.153846</td>\n",
              "      <td>77.0</td>\n",
              "    </tr>\n",
              "    <tr>\n",
              "      <th>2018-01-02</th>\n",
              "      <td>60.0</td>\n",
              "      <td>69.396226</td>\n",
              "      <td>77.0</td>\n",
              "    </tr>\n",
              "    <tr>\n",
              "      <th>2018-01-03</th>\n",
              "      <td>62.0</td>\n",
              "      <td>68.909091</td>\n",
              "      <td>77.0</td>\n",
              "    </tr>\n",
              "    <tr>\n",
              "      <th>2018-01-04</th>\n",
              "      <td>58.0</td>\n",
              "      <td>70.000000</td>\n",
              "      <td>76.0</td>\n",
              "    </tr>\n",
              "    <tr>\n",
              "      <th>2018-01-05</th>\n",
              "      <td>56.0</td>\n",
              "      <td>67.964286</td>\n",
              "      <td>76.0</td>\n",
              "    </tr>\n",
              "  </tbody>\n",
              "</table>\n",
              "</div>"
            ],
            "text/plain": [
              "            tmin       tavg  tmax\n",
              "date                             \n",
              "2018-01-01  62.0  69.153846  77.0\n",
              "2018-01-02  60.0  69.396226  77.0\n",
              "2018-01-03  62.0  68.909091  77.0\n",
              "2018-01-04  58.0  70.000000  76.0\n",
              "2018-01-05  56.0  67.964286  76.0"
            ]
          },
          "metadata": {}
        }
      ],
      "execution_count": 22,
      "metadata": {}
    },
    {
      "cell_type": "code",
      "source": [
        "# Plot the daily normals as an area plot with `stacked=False`\n",
        "df.plot(kind='area', stacked=False, x_compat=True, alpha=.2)\n",
        "plt.tight_layout()"
      ],
      "outputs": [
        {
          "output_type": "display_data",
          "data": {
            "image/png": "[encoded data removed]",
            "text/plain": [
              "<Figure size 432x288 with 1 Axes>"
            ]
          },
          "metadata": {}
        }
      ],
      "execution_count": 23,
      "metadata": {}
    }
  ],
  "metadata": {
    "anaconda-cloud": {},
    "kernelspec": {
      "name": "python3",
      "language": "python",
      "display_name": "Python 3"
    },
    "language_info": {
      "name": "python",
      "version": "3.6.7",
      "mimetype": "text/x-python",
      "codemirror_mode": {
        "name": "ipython",
        "version": 3
      },
      "pygments_lexer": "ipython3",
      "nbconvert_exporter": "python",
      "file_extension": ".py"
    },
    "varInspector": {
      "cols": {
        "lenName": 16,
        "lenType": 16,
        "lenVar": 40
      },
      "kernels_config": {
        "python": {
          "delete_cmd_postfix": "",
          "delete_cmd_prefix": "del ",
          "library": "var_list.py",
          "varRefreshCmd": "print(var_dic_list())"
        },
        "r": {
          "delete_cmd_postfix": ") ",
          "delete_cmd_prefix": "rm(",
          "library": "var_list.r",
          "varRefreshCmd": "cat(var_dic_list()) "
        }
      },
      "types_to_exclude": [
        "module",
        "function",
        "builtin_function_or_method",
        "instance",
        "_Feature"
      ],
      "window_display": false
    },
    "kernel_info": {
      "name": "python3"
    },
    "nteract": {
      "version": "0.12.3"
    }
  },
  "nbformat": 4,
  "nbformat_minor": 2
}