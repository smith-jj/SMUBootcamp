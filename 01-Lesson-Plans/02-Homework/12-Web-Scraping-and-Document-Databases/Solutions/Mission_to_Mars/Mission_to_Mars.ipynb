{
  "cells": [
    {
      "cell_type": "code",
      "source": [
        "# Import Splinter and BeautifulSoup\n",
        "from splinter import Browser\n",
        "from bs4 import BeautifulSoup"
      ],
      "outputs": [],
      "execution_count": 1,
      "metadata": {
        "collapsed": true
      }
    },
    {
      "cell_type": "code",
      "source": [
        "# Path to chromedriver\n",
        "!which chromedriver"
      ],
      "outputs": [
        {
          "output_type": "stream",
          "name": "stdout",
          "text": [
            "/usr/local/bin/chromedriver\n"
          ]
        }
      ],
      "execution_count": 2,
      "metadata": {}
    },
    {
      "cell_type": "code",
      "source": [
        "# Set the executable path and initialize the chrome browser in splinter\n",
        "executable_path = {'executable_path': '/usr/local/bin/chromedriver'}\n",
        "browser = Browser('chrome', **executable_path)"
      ],
      "outputs": [],
      "execution_count": 3,
      "metadata": {
        "collapsed": true
      }
    },
    {
      "cell_type": "markdown",
      "source": [
        "## Visit the NASA mars news site"
      ],
      "metadata": {}
    },
    {
      "cell_type": "code",
      "source": [
        "# Visit the mars nasa news site\n",
        "url = 'https://mars.nasa.gov/news/'\n",
        "browser.visit(url)\n",
        "\n",
        "# Optional delay for loading the page\n",
        "browser.is_element_present_by_css(\"ul.item_list li.slide\", wait_time=1)"
      ],
      "outputs": [
        {
          "output_type": "execute_result",
          "execution_count": 4,
          "data": {
            "text/plain": [
              "True"
            ]
          },
          "metadata": {}
        }
      ],
      "execution_count": 4,
      "metadata": {
        "collapsed": true
      }
    },
    {
      "cell_type": "code",
      "source": [
        "# Convert the browser html to a soup object and then quit the browser\n",
        "html = browser.html\n",
        "news_soup = BeautifulSoup(html, 'html.parser')\n",
        "\nslide_elem = news_soup.select_one('ul.item_list li.slide')"
      ],
      "outputs": [],
      "execution_count": 5,
      "metadata": {
        "collapsed": true
      }
    },
    {
      "cell_type": "code",
      "source": [
        "slide_elem.find(\"div\", class_='content_title')"
      ],
      "outputs": [
        {
          "output_type": "execute_result",
          "execution_count": 6,
          "data": {
            "text/plain": [
              "<div class=\"content_title\"><a href=\"/news/8330/nasa-sets-sights-on-may-5-launch-of-insight-to-mars/\" target=\"_self\">NASA Sets Sights on May 5 Launch of InSight to Mars</a></div>"
            ]
          },
          "metadata": {}
        }
      ],
      "execution_count": 6,
      "metadata": {}
    },
    {
      "cell_type": "code",
      "source": [
        "# Use the parent element to find the first a tag and save it as `news_title`\n",
        "news_title = slide_elem.find(\"div\", class_='content_title').get_text()\n",
        "news_title"
      ],
      "outputs": [
        {
          "output_type": "execute_result",
          "execution_count": 7,
          "data": {
            "text/plain": [
              "'NASA Sets Sights on May 5 Launch of InSight to Mars'"
            ]
          },
          "metadata": {}
        }
      ],
      "execution_count": 7,
      "metadata": {}
    },
    {
      "cell_type": "code",
      "source": [
        "# Use the parent element to find the paragraph text\n",
        "news_p = slide_elem.find('div', class_=\"article_teaser_body\").get_text()\n",
        "news_p"
      ],
      "outputs": [
        {
          "output_type": "execute_result",
          "execution_count": 8,
          "data": {
            "text/plain": [
              "'NASA’s next mission to Mars, InSight, is scheduled to launch Saturday, May 5, on a first-ever mission to study the heart of the Red Planet.'"
            ]
          },
          "metadata": {}
        }
      ],
      "execution_count": 8,
      "metadata": {}
    },
    {
      "cell_type": "markdown",
      "source": [
        "## JPL Space Images Featured Image"
      ],
      "metadata": {}
    },
    {
      "cell_type": "code",
      "source": [
        "# Visit URL\n",
        "url = 'https://www.jpl.nasa.gov/spaceimages/?search=&category=Mars'\n",
        "browser.visit(url)"
      ],
      "outputs": [],
      "execution_count": 9,
      "metadata": {
        "collapsed": true
      }
    },
    {
      "cell_type": "code",
      "source": [
        "# Find and click the full image button\n",
        "full_image_elem = browser.find_by_id('full_image')\n",
        "full_image_elem.click()"
      ],
      "outputs": [],
      "execution_count": 10,
      "metadata": {
        "collapsed": true
      }
    },
    {
      "cell_type": "code",
      "source": [
        "# Find the more info button and click that\n",
        "browser.is_element_present_by_text('more info', wait_time=1)\n",
        "more_info_elem = browser.find_link_by_partial_text('more info')\n",
        "more_info_elem.click()"
      ],
      "outputs": [],
      "execution_count": 11,
      "metadata": {
        "collapsed": true
      }
    },
    {
      "cell_type": "code",
      "source": [
        "# Parse the resulting html with soup\n",
        "html = browser.html\n",
        "img_soup = BeautifulSoup(html, 'html.parser')"
      ],
      "outputs": [],
      "execution_count": 12,
      "metadata": {
        "collapsed": true
      }
    },
    {
      "cell_type": "code",
      "source": [
        "# find the relative image url\n",
        "img_url_rel = img_soup.select_one('figure.lede a img').get(\"src\")\n",
        "img_url_rel"
      ],
      "outputs": [
        {
          "output_type": "execute_result",
          "execution_count": 13,
          "data": {
            "text/plain": [
              "'/spaceimages/images/largesize/PIA16105_hires.jpg'"
            ]
          },
          "metadata": {}
        }
      ],
      "execution_count": 13,
      "metadata": {}
    },
    {
      "cell_type": "code",
      "source": [
        "# Use the base url to create an absolute url\n",
        "img_url = f'https://www.jpl.nasa.gov{img_url_rel}'\n",
        "img_url"
      ],
      "outputs": [
        {
          "output_type": "execute_result",
          "execution_count": 14,
          "data": {
            "text/plain": [
              "'https://www.jpl.nasa.gov/spaceimages/images/largesize/PIA16105_hires.jpg'"
            ]
          },
          "metadata": {}
        }
      ],
      "execution_count": 14,
      "metadata": {}
    },
    {
      "cell_type": "markdown",
      "source": [
        "## Mars Weather"
      ],
      "metadata": {}
    },
    {
      "cell_type": "code",
      "source": [
        "url = 'https://twitter.com/marswxreport?lang=en'\n",
        "browser.visit(url)"
      ],
      "outputs": [],
      "execution_count": 15,
      "metadata": {
        "collapsed": true
      }
    },
    {
      "cell_type": "code",
      "source": [
        "html = browser.html\n",
        "weather_soup = BeautifulSoup(html, 'html.parser')"
      ],
      "outputs": [],
      "execution_count": 16,
      "metadata": {
        "collapsed": true
      }
    },
    {
      "cell_type": "code",
      "source": [
        "# First, find a tweet with the data-name `Mars Weather`\n",
        "mars_weather_tweet = weather_soup.find('div', attrs={\"class\": \"tweet\", \"data-name\": \"Mars Weather\"})"
      ],
      "outputs": [],
      "execution_count": 17,
      "metadata": {
        "collapsed": true
      }
    },
    {
      "cell_type": "code",
      "source": [
        "# Next, search within the tweet for the p tag containing the tweet text\n",
        "mars_weather = mars_weather_tweet.find('p', 'tweet-text').get_text()\n",
        "mars_weather"
      ],
      "outputs": [
        {
          "output_type": "execute_result",
          "execution_count": 18,
          "data": {
            "text/plain": [
              "'Sol 2033 (April 25, 2018), Sunny, high -10C/14F, low -71C/-95F, pressure at 7.23 hPa, daylight 05:24-17:20'"
            ]
          },
          "metadata": {}
        }
      ],
      "execution_count": 18,
      "metadata": {}
    },
    {
      "cell_type": "code",
      "source": [
        "url = 'https://astrogeology.usgs.gov/search/results?q=hemisphere+enhanced&k1=target&v1=Mars'\n",
        "browser.visit(url)"
      ],
      "outputs": [],
      "execution_count": 19,
      "metadata": {
        "collapsed": true
      }
    },
    {
      "cell_type": "code",
      "source": [
        "hemisphere_image_urls = []\n",
        "\n",
        "# First, get a list of all of the hemispheres\n",
        "links = browser.find_by_css(\"a.product-item h3\")\n",
        "\n",
        "# Next, loop through those links, click the link, find the sample anchor, return the href\n",
        "for i in range(len(links)):\n",
        "    hemisphere = {}\n",
        "    \n",
        "    # We have to find the elements on each loop to avoid a stale element exception\n",
        "    browser.find_by_css(\"a.product-item h3\")[i].click()\n",
        "    \n",
        "    # Next, we find the Sample image anchor tag and extract the href\n",
        "    sample_elem = browser.find_link_by_text('Sample').first\n",
        "    hemisphere['img_url'] = sample_elem['href']\n",
        "    \n",
        "    # Get Hemisphere title\n",
        "    hemisphere['title'] = browser.find_by_css(\"h2.title\").text\n",
        "    \n",
        "    # Append hemisphere object to list\n",
        "    hemisphere_image_urls.append(hemisphere)\n",
        "    \n",
        "    # Finally, we navigate backwards\n",
        "    browser.back()\n",
        "    "
      ],
      "outputs": [],
      "execution_count": 20,
      "metadata": {
        "collapsed": true
      }
    },
    {
      "cell_type": "code",
      "source": [
        "hemisphere_image_urls"
      ],
      "outputs": [
        {
          "output_type": "execute_result",
          "execution_count": 21,
          "data": {
            "text/plain": [
              "[{'img_url': 'http://astropedia.astrogeology.usgs.gov/download/Mars/Viking/cerberus_enhanced.tif/full.jpg',\n",
              "  'title': 'Cerberus Hemisphere Enhanced'},\n",
              " {'img_url': 'http://astropedia.astrogeology.usgs.gov/download/Mars/Viking/schiaparelli_enhanced.tif/full.jpg',\n",
              "  'title': 'Schiaparelli Hemisphere Enhanced'},\n",
              " {'img_url': 'http://astropedia.astrogeology.usgs.gov/download/Mars/Viking/syrtis_major_enhanced.tif/full.jpg',\n",
              "  'title': 'Syrtis Major Hemisphere Enhanced'},\n",
              " {'img_url': 'http://astropedia.astrogeology.usgs.gov/download/Mars/Viking/valles_marineris_enhanced.tif/full.jpg',\n",
              "  'title': 'Valles Marineris Hemisphere Enhanced'}]"
            ]
          },
          "metadata": {}
        }
      ],
      "execution_count": 21,
      "metadata": {}
    },
    {
      "cell_type": "markdown",
      "source": [
        "## Mars Facts"
      ],
      "metadata": {}
    },
    {
      "cell_type": "code",
      "source": [
        "import pandas as pd\n",
        "df = pd.read_html('https://space-facts.com/mars/')[0]\n",
        "df.columns=['description', 'value']\n",
        "df.set_index('description', inplace=True)\n",
        "df"
      ],
      "outputs": [
        {
          "output_type": "execute_result",
          "execution_count": 22,
          "data": {
            "text/html": [
              "<div>\n",
              "<style scoped>\n",
              "    .dataframe tbody tr th:only-of-type {\n",
              "        vertical-align: middle;\n",
              "    }\n",
              "\n",
              "    .dataframe tbody tr th {\n",
              "        vertical-align: top;\n",
              "    }\n",
              "\n",
              "    .dataframe thead th {\n",
              "        text-align: right;\n",
              "    }\n",
              "</style>\n",
              "<table border=\"1\" class=\"dataframe\">\n",
              "  <thead>\n",
              "    <tr style=\"text-align: right;\">\n",
              "      <th></th>\n",
              "      <th>value</th>\n",
              "    </tr>\n",
              "    <tr>\n",
              "      <th>description</th>\n",
              "      <th></th>\n",
              "    </tr>\n",
              "  </thead>\n",
              "  <tbody>\n",
              "    <tr>\n",
              "      <th>Equatorial Diameter:</th>\n",
              "      <td>6,792 km</td>\n",
              "    </tr>\n",
              "    <tr>\n",
              "      <th>Polar Diameter:</th>\n",
              "      <td>6,752 km</td>\n",
              "    </tr>\n",
              "    <tr>\n",
              "      <th>Mass:</th>\n",
              "      <td>6.42 x 10^23 kg (10.7% Earth)</td>\n",
              "    </tr>\n",
              "    <tr>\n",
              "      <th>Moons:</th>\n",
              "      <td>2 (Phobos &amp; Deimos)</td>\n",
              "    </tr>\n",
              "    <tr>\n",
              "      <th>Orbit Distance:</th>\n",
              "      <td>227,943,824 km (1.52 AU)</td>\n",
              "    </tr>\n",
              "    <tr>\n",
              "      <th>Orbit Period:</th>\n",
              "      <td>687 days (1.9 years)</td>\n",
              "    </tr>\n",
              "    <tr>\n",
              "      <th>Surface Temperature:</th>\n",
              "      <td>-153 to 20 °C</td>\n",
              "    </tr>\n",
              "    <tr>\n",
              "      <th>First Record:</th>\n",
              "      <td>2nd millennium BC</td>\n",
              "    </tr>\n",
              "    <tr>\n",
              "      <th>Recorded By:</th>\n",
              "      <td>Egyptian astronomers</td>\n",
              "    </tr>\n",
              "  </tbody>\n",
              "</table>\n",
              "</div>"
            ],
            "text/plain": [
              "                                              value\n",
              "description                                        \n",
              "Equatorial Diameter:                       6,792 km\n",
              "Polar Diameter:                            6,752 km\n",
              "Mass:                 6.42 x 10^23 kg (10.7% Earth)\n",
              "Moons:                          2 (Phobos & Deimos)\n",
              "Orbit Distance:            227,943,824 km (1.52 AU)\n",
              "Orbit Period:                  687 days (1.9 years)\n",
              "Surface Temperature:                  -153 to 20 °C\n",
              "First Record:                     2nd millennium BC\n",
              "Recorded By:                   Egyptian astronomers"
            ]
          },
          "metadata": {}
        }
      ],
      "execution_count": 22,
      "metadata": {}
    },
    {
      "cell_type": "code",
      "source": [
        "df.to_html()"
      ],
      "outputs": [
        {
          "output_type": "execute_result",
          "execution_count": 23,
          "data": {
            "text/plain": [
              "'<table border=\"1\" class=\"dataframe\">\\n  <thead>\\n    <tr style=\"text-align: right;\">\\n      <th></th>\\n      <th>value</th>\\n    </tr>\\n    <tr>\\n      <th>description</th>\\n      <th></th>\\n    </tr>\\n  </thead>\\n  <tbody>\\n    <tr>\\n      <th>Equatorial Diameter:</th>\\n      <td>6,792 km</td>\\n    </tr>\\n    <tr>\\n      <th>Polar Diameter:</th>\\n      <td>6,752 km</td>\\n    </tr>\\n    <tr>\\n      <th>Mass:</th>\\n      <td>6.42 x 10^23 kg (10.7% Earth)</td>\\n    </tr>\\n    <tr>\\n      <th>Moons:</th>\\n      <td>2 (Phobos &amp; Deimos)</td>\\n    </tr>\\n    <tr>\\n      <th>Orbit Distance:</th>\\n      <td>227,943,824 km (1.52 AU)</td>\\n    </tr>\\n    <tr>\\n      <th>Orbit Period:</th>\\n      <td>687 days (1.9 years)</td>\\n    </tr>\\n    <tr>\\n      <th>Surface Temperature:</th>\\n      <td>-153 to 20 °C</td>\\n    </tr>\\n    <tr>\\n      <th>First Record:</th>\\n      <td>2nd millennium BC</td>\\n    </tr>\\n    <tr>\\n      <th>Recorded By:</th>\\n      <td>Egyptian astronomers</td>\\n    </tr>\\n  </tbody>\\n</table>'"
            ]
          },
          "metadata": {}
        }
      ],
      "execution_count": 23,
      "metadata": {}
    },
    {
      "cell_type": "code",
      "source": [
        "browser.quit()"
      ],
      "outputs": [],
      "execution_count": 24,
      "metadata": {
        "collapsed": true
      }
    }
  ],
  "metadata": {
    "kernelspec": {
      "name": "python3",
      "language": "python",
      "display_name": "Python 3"
    },
    "language_info": {
      "name": "python",
      "version": "3.6.7",
      "mimetype": "text/x-python",
      "codemirror_mode": {
        "name": "ipython",
        "version": 3
      },
      "pygments_lexer": "ipython3",
      "nbconvert_exporter": "python",
      "file_extension": ".py"
    },
    "kernel_info": {
      "name": "python3"
    },
    "nteract": {
      "version": "0.12.3"
    }
  },
  "nbformat": 4,
  "nbformat_minor": 2
}